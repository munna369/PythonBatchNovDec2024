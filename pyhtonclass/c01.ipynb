{
 "cells": [
  {
   "cell_type": "code",
   "execution_count": 1,
   "metadata": {},
   "outputs": [
    {
     "name": "stdout",
     "output_type": "stream",
     "text": [
      "hello;python;12312\tworld\n"
     ]
    }
   ],
   "source": [
    "print(\"hello\", \"python\", 12312, end= \"\\t\",sep=\";\")\n",
    "print(\"world\")"
   ]
  },
  {
   "cell_type": "code",
   "execution_count": 2,
   "metadata": {},
   "outputs": [
    {
     "name": "stdout",
     "output_type": "stream",
     "text": [
      "hi\n",
      "134\n",
      "\bsecond\n"
     ]
    }
   ],
   "source": [
    "# \\b overwrites previous command\n",
    "print(\"he\\bi\")\n",
    "print(\"12\\b34\")\n",
    "print(\"\\bsecond\")\n"
   ]
  },
  {
   "cell_type": "code",
   "execution_count": 3,
   "metadata": {},
   "outputs": [
    {
     "name": "stdout",
     "output_type": "stream",
     "text": [
      "ie\n",
      "34\n",
      "second\n"
     ]
    }
   ],
   "source": [
    "# \\r entire charecters before it will be gone\n",
    "print(\"he\\ri\")\n",
    "print(\"12\\r34\")\n",
    "print(\"\\rsecond\")\n"
   ]
  },
  {
   "cell_type": "code",
   "execution_count": null,
   "metadata": {},
   "outputs": [],
   "source": [
    "# \\x hexadecimal value "
   ]
  }
 ],
 "metadata": {
  "kernelspec": {
   "display_name": "Python 3 (ipykernel)",
   "language": "python",
   "name": "python3"
  },
  "language_info": {
   "codemirror_mode": {
    "name": "ipython",
    "version": 3
   },
   "file_extension": ".py",
   "mimetype": "text/x-python",
   "name": "python",
   "nbconvert_exporter": "python",
   "pygments_lexer": "ipython3",
   "version": "3.12.1"
  }
 },
 "nbformat": 4,
 "nbformat_minor": 2
}
