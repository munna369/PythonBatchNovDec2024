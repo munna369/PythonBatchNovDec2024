{
 "cells": [
  {
   "cell_type": "markdown",
   "metadata": {},
   "source": [
    "# string operations"
   ]
  },
  {
   "cell_type": "code",
   "execution_count": 3,
   "metadata": {},
   "outputs": [
    {
     "name": "stdout",
     "output_type": "stream",
     "text": [
      " english  <class 'str'>\n"
     ]
    }
   ],
   "source": [
    "# string with single code\n",
    "language =\" english \" \n",
    "print(language, type(language))"
   ]
  },
  {
   "cell_type": "code",
   "execution_count": 4,
   "metadata": {},
   "outputs": [
    {
     "name": "stdout",
     "output_type": "stream",
     "text": [
      " english <class 'str'>\n"
     ]
    }
   ],
   "source": [
    "language =''' english'''\n",
    "print(language, type(language))"
   ]
  },
  {
   "cell_type": "markdown",
   "metadata": {},
   "source": [
    "# triple double codes is used only for doc strings."
   ]
  },
  {
   "cell_type": "markdown",
   "metadata": {},
   "source": [
    "\\ is used to remove the operator and use like a odinary charecter."
   ]
  },
  {
   "cell_type": "code",
   "execution_count": null,
   "metadata": {},
   "outputs": [],
   "source": [
    "where_abouts = 'what\\'s up'"
   ]
  },
  {
   "cell_type": "code",
   "execution_count": 5,
   "metadata": {},
   "outputs": [],
   "source": [
    "other_string = '''select * from ny table where name = 'uday' and profession like \"work\" '''"
   ]
  },
  {
   "cell_type": "markdown",
   "metadata": {},
   "source": [
    "here we used triple quotes to coever double and single quote"
   ]
  },
  {
   "cell_type": "markdown",
   "metadata": {},
   "source": [
    "# multi line strings"
   ]
  },
  {
   "cell_type": "code",
   "execution_count": 9,
   "metadata": {},
   "outputs": [
    {
     "name": "stdout",
     "output_type": "stream",
     "text": [
      "today is day to learn python\n"
     ]
    }
   ],
   "source": [
    "print(\n",
    "    'today is day \\\n",
    "to learn python'\n",
    ")"
   ]
  },
  {
   "cell_type": "markdown",
   "metadata": {},
   "source": [
    "to go for multi lines use triple single or triple double quotes"
   ]
  },
  {
   "cell_type": "markdown",
   "metadata": {},
   "source": [
    "# string indexing\n"
   ]
  },
  {
   "cell_type": "code",
   "execution_count": 11,
   "metadata": {},
   "outputs": [
    {
     "name": "stdout",
     "output_type": "stream",
     "text": [
      " english  <class 'str'>\n",
      "len(language)= 9\n"
     ]
    }
   ],
   "source": [
    "language =\" english \" \n",
    "print(language, type(language))\n",
    "print(\"len(language)=\",len(language) )"
   ]
  },
  {
   "cell_type": "markdown",
   "metadata": {},
   "source": [
    "# String slicing operations\n"
   ]
  },
  {
   "cell_type": "code",
   "execution_count": 13,
   "metadata": {},
   "outputs": [
    {
     "name": "stdout",
     "output_type": "stream",
     "text": [
      "language[0:11]:  en\n"
     ]
    }
   ],
   "source": [
    "print(\"language[0:11]:\",language[0:3])"
   ]
  },
  {
   "cell_type": "code",
   "execution_count": null,
   "metadata": {},
   "outputs": [],
   "source": []
  }
 ],
 "metadata": {
  "kernelspec": {
   "display_name": ".venv",
   "language": "python",
   "name": "python3"
  },
  "language_info": {
   "codemirror_mode": {
    "name": "ipython",
    "version": 3
   },
   "file_extension": ".py",
   "mimetype": "text/x-python",
   "name": "python",
   "nbconvert_exporter": "python",
   "pygments_lexer": "ipython3",
   "version": "3.12.1"
  }
 },
 "nbformat": 4,
 "nbformat_minor": 2
}
